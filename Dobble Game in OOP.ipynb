{
 "cells": [
  {
   "cell_type": "markdown",
   "metadata": {},
   "source": [
    "<H1>Installs the \"emoji\" libraray</H1>"
   ]
  },
  {
   "cell_type": "code",
   "execution_count": 1,
   "metadata": {},
   "outputs": [
    {
     "name": "stdout",
     "output_type": "stream",
     "text": [
      "Collecting emoji\n",
      "  Downloading emoji-0.6.0.tar.gz (51 kB)\n",
      "Building wheels for collected packages: emoji\n",
      "  Building wheel for emoji (setup.py): started\n",
      "  Building wheel for emoji (setup.py): finished with status 'done'\n",
      "  Created wheel for emoji: filename=emoji-0.6.0-py3-none-any.whl size=49720 sha256=c53f79464b52ce3d52e64681fd54a92cb060dbd9130dbf610258baf005cf0440\n",
      "  Stored in directory: c:\\users\\j\\appdata\\local\\pip\\cache\\wheels\\4e\\bf\\6b\\2e22b3708d14bf6384f862db539b044d6931bd6b14ad3c9adc\n",
      "Successfully built emoji\n",
      "Installing collected packages: emoji\n",
      "Successfully installed emoji-0.6.0\n",
      "Note: you may need to restart the kernel to use updated packages.\n"
     ]
    }
   ],
   "source": [
    "pip install emoji --upgrade"
   ]
  },
  {
   "cell_type": "markdown",
   "metadata": {},
   "source": [
    "<H1>Imports the \"emoji\" module</H1>"
   ]
  },
  {
   "cell_type": "code",
   "execution_count": 2,
   "metadata": {},
   "outputs": [],
   "source": [
    "import emoji"
   ]
  },
  {
   "cell_type": "markdown",
   "metadata": {},
   "source": [
    "<H1>Imports the \"display()\" and \"Markdown()\" functions from the \"IPython.display\" module</H1>"
   ]
  },
  {
   "cell_type": "code",
   "execution_count": 3,
   "metadata": {},
   "outputs": [],
   "source": [
    "from IPython.display import display, Markdown"
   ]
  },
  {
   "cell_type": "markdown",
   "metadata": {},
   "source": [
    "<H1>Imports the \"random.choice()\" function from the \"random\" module</H1>"
   ]
  },
  {
   "cell_type": "code",
   "execution_count": 4,
   "metadata": {},
   "outputs": [],
   "source": [
    "from random import choice"
   ]
  },
  {
   "cell_type": "markdown",
   "metadata": {},
   "source": [
    "<H1>imageDict is declared as a dictionary</H1>\n",
    "<H3>The file \"emoji_names.txt\" is assigned a filehandle and the readlines function sends each line to a list.</H3>   \n",
    "<H3>Each line holds the code for an emoji</H3>\n",
    "So each list element does too. The commas, quotes and whitespace removed using \"strip()\" and then each element is enumerated and passed into imageDict.\n",
    "<H3>There are 58 emojis in the file, so there are 58 in imageDict</H3>As there are only 57 characters required for a game of Dobble with 8 images per card, this gives us 58 possible groups of 57 characters to use (58 Choose 57)    "
   ]
  },
  {
   "cell_type": "code",
   "execution_count": 5,
   "metadata": {},
   "outputs": [],
   "source": [
    "imageDict = dict()\n",
    "fh1 = open('emoji_names.txt',\"r\")\n",
    "lines = fh1.readlines()\n",
    "for i, el in enumerate(lines):\n",
    "    imageDict[i+1] = el.strip()"
   ]
  },
  {
   "cell_type": "markdown",
   "metadata": {},
   "source": [
    "<H1>\"masterCardDict\" is declared as a dictionary</H1>\n",
    "<H3>This is to be used as the template for creating card decks for Dobble</H3>\n",
    "This algorithm creates all the possible sets of 8 that share only one element with each other.<br>\n",
    "We end up with 57 sets of 8 numbers in the dictionary   "
   ]
  },
  {
   "cell_type": "code",
   "execution_count": 6,
   "metadata": {},
   "outputs": [],
   "source": [
    "masterCardDict = {}\n",
    "c=0\n",
    "c+=1\n",
    "masterCardDict[c] = set()\n",
    "for i in range(8):\n",
    "    masterCardDict[c].add(i+1)\n",
    "for j in range(7):\n",
    "    c += 1\n",
    "    masterCardDict[c] = set()\n",
    "    masterCardDict[c].add(1)\n",
    "    for k in range(7):\n",
    "        masterCardDict[c].add(9+7*j+k)\n",
    "for i in range(7):\n",
    "    for j in range(7):\n",
    "        c += 1\n",
    "        masterCardDict[c]=set()\n",
    "        masterCardDict[c].add(i+2)\n",
    "        for k in range(7):\n",
    "            masterCardDict[c].add((8 + 7*k + (i*k+j)%7)+1)\n",
    "             "
   ]
  },
  {
   "cell_type": "markdown",
   "metadata": {},
   "source": [
    "<H1>The CheckValidity function is declared</H1>\n",
    "<H3>This function checks that the masterCardDict contains a valid series of sets</H3>\n",
    "Because the combinations are stored as sets, the intersection function can be used to find common numbers between sets.\n",
    "<H3>This function can be called in regular or verbose method</H3>\n",
    "If called in regular method, it just states if the deck is valid or not after performing a check.<br>\n",
    "If verbose=true is entered as a kwarg, this matches the intersecting numbers against the imageDict and displays the relevant emoji for each intersection."
   ]
  },
  {
   "cell_type": "code",
   "execution_count": 7,
   "metadata": {},
   "outputs": [],
   "source": [
    "def CheckValidity(d, **kwargs):\n",
    "    x = 0\n",
    "    \n",
    "    '''Two nested For loops are used to check every set in the dict against every set in the dict.\n",
    "    If there are any occurances of more than one number in common between sets, a counter is incremented. \n",
    "    Cases where a card is checked against itself are excluded.'''\n",
    "    \n",
    "    for i in range(1,58):\n",
    "        for j in range(1,58):\n",
    "            if len(d[i].intersection(d[j])) != 1 and i != j:\n",
    "                x += 1\n",
    "            elif len(d[i].intersection(d[j])) == 1 and i != j:\n",
    "                for verbose in kwargs:\n",
    "                    if verbose:\n",
    "                        for el in (d[i].intersection(d[j])): # Displays the intersecting elements if \"verbose method chosen\"\n",
    "                            display(Markdown(emoji.emojize(\n",
    "                                                            \"<p style = 'display: inline-block;'>Card %2d has \" % i \n",
    "                                                            + \"</p><h1 style = 'display: inline-block;'>\" \n",
    "                                                            + imageDict[el] \n",
    "                                                            + \"</h1><p style = 'display: inline-block;'>\" \n",
    "                                                            + \"in common with Card %2d\" % j \n",
    "                                                            ))) \n",
    "    if x == 0:\n",
    "        print(\"Deck is valid\")\n",
    "    else:\n",
    "        print(\"Deck is invalid\")"
   ]
  },
  {
   "cell_type": "markdown",
   "metadata": {},
   "source": [
    "CheckValidity(masterCardDict, verbose=True) # I've set this cell to markdown so it doesn't run when all cells are run"
   ]
  },
  {
   "cell_type": "code",
   "execution_count": 8,
   "metadata": {},
   "outputs": [
    {
     "name": "stdout",
     "output_type": "stream",
     "text": [
      "Deck is valid\n"
     ]
    }
   ],
   "source": [
    "CheckValidity(masterCardDict)"
   ]
  },
  {
   "cell_type": "markdown",
   "metadata": {},
   "source": [
    "<H1>Defining the class called \"DobbleCard\" which calls for one argument</H1>\n",
    "\n",
    "<H3>The argument (an integer)is used as a dictionary index</H3>\n",
    "The set corresponding to that index is copied from the masterCardDict and cast as a list.<br>\n",
    "The conversion to a list to allows indexing when displaying the characters.<br>\n",
    "The instance variable cardface is declared as this list.<br>\n",
    "There is no need for error checking on the argument as it will be supplied by another function further along.\n"
   ]
  },
  {
   "cell_type": "code",
   "execution_count": 9,
   "metadata": {},
   "outputs": [],
   "source": [
    "class DobbleCard():\n",
    "    def __init__(self, x):\n",
    "        self.cardface = list(masterCardDict[x])\n",
    "        "
   ]
  },
  {
   "cell_type": "markdown",
   "metadata": {},
   "source": [
    "<H1>Defining the class called \"DobbleDeck\" which calls for one argument</H1>\n",
    "\n",
    "<H3>The argument (an integer)is passed to the attribute \"d\"</H3>\n",
    "\"d\" represents the number of cards to be added to the deck.<br>\n",
    "The add_card() function is called \"d\" times to create an instance of the deck.<br>\n",
    "Again, there is no need for error checking as the arguement will be supplied by another function.\n",
    "\n",
    "<H3>The attribute \"gamedeck\" is declared as an empty dictionary</H3>\n",
    "\n",
    "<H3>The attribute \"cardinplay\" is declared as an empty list</H3>\n",
    "This is to temporarily hold each card drawn from the deck before it is discarded.\n",
    "\n",
    "<H3>The attribute \"count\" is declared with a value of \"1\"</H3>\n",
    "\n",
    "\n",
    "\n",
    "<H3> The method \"add_card\" is defined</H3>\n",
    "This calls the constructor for the \"DobbleCard\" class to call \"d\" instances of that class and add them to the gamedeck dictionary.<br>\n",
    "Using error-checking, the first instance is assigned to \"gamedeck\" index \"1\" and all subsequent cards are paired with successive numbers up to \"d\"<br>\n",
    "\n",
    "<H3> The method \"remove_card\" is defined</H3>\n",
    "This can take one or more arguements which are used as gamedeck indices to select a card for deletion.\n",
    "\n",
    "<H3> The method \"play_card\" is defined</H3>\n",
    "\"count\" is used as an index for the game deck to pass a card to the cardinplay list and then delete it from the gamedeck.<br>\n",
    "Count always starts at \"1\" and is incremented each time the \"play_card\" function is called.<br>\n",
    "\"emojize\" from the emoji module and \"display\" from the markdown module are used to display the numbers of the card in play and the next card in the deck (deck index count+1) as emojis onscreen.<br>\n",
    "Some HTML and CSS is used with Markdown to display the emojis larger than normal.<br>\n",
    "The HTML whitespace character - &npsp - is used extensively to space the emojis correctly in an approximation of the layout on the real cards.\n",
    "\n",
    "\n"
   ]
  },
  {
   "cell_type": "code",
   "execution_count": 10,
   "metadata": {},
   "outputs": [],
   "source": [
    "class DobbleDeck():\n",
    "    def __init__ (self,d):\n",
    "        self.gamedeck = {}\n",
    "        self.cardinplay = []\n",
    "        self.count = 1\n",
    "        self.d=d\n",
    "        for i in range(self.d):\n",
    "            self.add_card()\n",
    "    \n",
    "    def add_card(self):\n",
    "        try:\n",
    "            \n",
    "            \"\"\"1 is added to the highest index of the cards already in the gamedeck and a random choice is assigned\n",
    "            from the masterCardDict to this next index in the gamedeck\"\"\"\n",
    "            \n",
    "            a = max(\n",
    "                    self.gamedeck.keys()\n",
    "                        ) + 1\n",
    "            b = choice(\n",
    "                    list(\n",
    "                        masterCardDict.keys()\n",
    "                        ))\n",
    "            while masterCardDict[b] in self.gamedeck.values():\n",
    "                b = choice(\n",
    "                        list(\n",
    "                            masterCardDict.keys()\n",
    "                            ))          \n",
    "            self.gamedeck[a] = DobbleCard(b)\n",
    "        except ValueError: # This kicks in when the gamedeck is empty to add the first card to the gamedeck\n",
    "            self.gamedeck[1] = DobbleCard(\n",
    "                                    choice(\n",
    "                                        list(\n",
    "                                            masterCardDict.keys()\n",
    "                                            )))\n",
    "    \n",
    "    def remove_card(self, *args):\n",
    "        for a in args:\n",
    "            del self.gamedeck[a]\n",
    "    \n",
    "    \n",
    "    def play_card(self):\n",
    "        self.cardinplay = self.gamedeck[self.count]\n",
    "        self.remove_card(self.count)\n",
    "        display(Markdown(emoji.emojize(\n",
    "                                    \"<h1 style = 'display: inline-block;'>&nbsp&nbsp&nbsp&nbsp&nbsp&nbsp&nbsp&nbsp&nbsp&nbsp&nbsp&nbsp&nbsp&nbsp&nbsp&nbsp&nbsp&nbsp\"\n",
    "                                    + imageDict[self.gamedeck[self.count+1].cardface[0]] \n",
    "                                    + \"&nbsp&nbsp&nbsp&nbsp&nbsp&nbsp&nbsp&nbsp&nbsp&nbsp&nbsp&nbsp&nbsp&nbsp&nbsp&nbsp&nbsp&nbsp&nbsp&nbsp&nbsp&nbsp&nbsp&nbsp&nbsp&nbsp&nbsp&nbsp&nbsp&nbsp&nbsp&nbsp&nbsp&nbsp&nbsp&nbsp&nbsp&nbsp&nbsp&nbsp&nbsp&nbsp&nbsp&nbsp&nbsp&nbsp&nbsp&nbsp&nbsp&nbsp&nbsp&nbsp&nbsp&nbsp&nbsp&nbsp&nbsp&nbsp&nbsp&nbsp&nbsp&nbsp&nbsp&nbsp&nbsp&nbsp&nbsp&nbsp&nbsp&nbsp&nbsp\" \n",
    "                                    + imageDict[self.cardinplay.cardface[0]] \n",
    "                                    + \"</h1>\"\n",
    "                                        )))\n",
    "        display(Markdown(emoji.emojize(\n",
    "                                    \"<h1 style = 'display: inline-block;'>&nbsp&nbsp&nbsp&nbsp&nbsp&nbsp\" \n",
    "                                    + imageDict[self.gamedeck[self.count+1].cardface[7]] \n",
    "                                    + \"&nbsp&nbsp&nbsp&nbsp&nbsp&nbsp&nbsp&nbsp&nbsp&nbsp&nbsp&nbsp&nbsp&nbsp&nbsp&nbsp&nbsp&nbsp\" \n",
    "                                    + imageDict[self.gamedeck[self.count+1].cardface[1]] \n",
    "                                    + \"&nbsp&nbsp&nbsp&nbsp&nbsp&nbsp&nbsp&nbsp&nbsp&nbsp&nbsp&nbsp&nbsp&nbsp&nbsp&nbsp&nbsp&nbsp&nbsp&nbsp&nbsp&nbsp&nbsp&nbsp&nbsp&nbsp&nbsp&nbsp&nbsp&nbsp&nbsp&nbsp&nbsp&nbsp&nbsp&nbsp&nbsp&nbsp&nbsp&nbsp&nbsp&nbsp&nbsp&nbsp&nbsp&nbsp&nbsp&nbsp&nbsp\" \n",
    "                                    + imageDict[self.cardinplay.cardface[7]] \n",
    "                                    + \"&nbsp&nbsp&nbsp&nbsp&nbsp&nbsp&nbsp&nbsp&nbsp&nbsp&nbsp&nbsp&nbsp&nbsp&nbsp&nbsp&nbsp&nbsp\" \n",
    "                                    + imageDict[self.cardinplay.cardface[1]] \n",
    "                                    + \"</h1>\"\n",
    "                                        )))\n",
    "        display(Markdown(emoji.emojize(\n",
    "                                    \"<h1 style = 'display: inline-block;'>\" \n",
    "                                    + imageDict[self.gamedeck[self.count+1].cardface[6]] \n",
    "                                    + \"&nbsp&nbsp&nbsp&nbsp&nbsp&nbsp&nbsp&nbsp&nbsp&nbsp&nbspDECK&nbsp&nbsp&nbsp&nbsp&nbsp&nbsp&nbsp&nbsp&nbsp\" \n",
    "                                    + imageDict[self.gamedeck[self.count+1].cardface[2]] \n",
    "                                    + \"&nbsp&nbsp&nbsp&nbsp&nbsp&nbsp&nbsp&nbsp&nbsp&nbsp&nbsp&nbsp&nbsp&nbsp&nbsp&nbsp&nbsp&nbsp&nbsp&nbsp&nbsp&nbsp&nbsp&nbsp&nbsp&nbsp&nbsp&nbsp&nbsp&nbsp&nbsp&nbsp&nbsp&nbsp&nbsp&nbsp&nbsp&nbsp&nbsp\" \n",
    "                                    + imageDict[self.cardinplay.cardface[6]] \n",
    "                                    + \"&nbsp&nbsp&nbsp&nbsp&nbsp&nbsp&nbspCARD \" \n",
    "                                    + str(self.count) \n",
    "                                    + \"&nbsp&nbsp&nbsp&nbsp&nbsp&nbsp&nbsp&nbsp\" \n",
    "                                    + imageDict[self.cardinplay.cardface[2]] \n",
    "                                    + \"</h1>\"\n",
    "                                        )))\n",
    "        display(Markdown(emoji.emojize(\n",
    "                                    \"<h1 style = 'display: inline-block;'>&nbsp&nbsp&nbsp&nbsp&nbsp&nbsp\" \n",
    "                                    + imageDict[self.gamedeck[self.count+1].cardface[5]] \n",
    "                                    + \"&nbsp&nbsp&nbsp&nbsp&nbsp&nbsp&nbsp&nbsp&nbsp&nbsp&nbsp&nbsp&nbsp&nbsp&nbsp&nbsp&nbsp&nbsp\" \n",
    "                                    + imageDict[self.gamedeck[self.count+1].cardface[3]] \n",
    "                                    + \"&nbsp&nbsp&nbsp&nbsp&nbsp&nbsp&nbsp&nbsp&nbsp&nbsp&nbsp&nbsp&nbsp&nbsp&nbsp&nbsp&nbsp&nbsp&nbsp&nbsp&nbsp&nbsp&nbsp&nbsp&nbsp&nbsp&nbsp&nbsp&nbsp&nbsp&nbsp&nbsp&nbsp&nbsp&nbsp&nbsp&nbsp&nbsp&nbsp&nbsp&nbsp&nbsp&nbsp&nbsp&nbsp&nbsp&nbsp&nbsp&nbsp&nbsp\" \n",
    "                                    + imageDict[self.cardinplay.cardface[5]] \n",
    "                                    + \"&nbsp&nbsp&nbsp&nbsp&nbsp&nbsp&nbsp&nbsp&nbsp&nbsp&nbsp&nbsp&nbsp&nbsp&nbsp&nbsp&nbsp&nbsp\" \n",
    "                                    + imageDict[self.cardinplay.cardface[3]] \n",
    "                                    + \"</h1>\"\n",
    "                                        )))\n",
    "        display(Markdown(emoji.emojize(\n",
    "                                    \"<h1 style = 'display: inline-block;'>&nbsp&nbsp&nbsp&nbsp&nbsp&nbsp&nbsp&nbsp&nbsp&nbsp&nbsp&nbsp&nbsp&nbsp&nbsp&nbsp&nbsp&nbsp\" \n",
    "                                    + imageDict[self.gamedeck[self.count+1].cardface[4]] \n",
    "                                    + \"&nbsp&nbsp&nbsp&nbsp&nbsp&nbsp&nbsp&nbsp&nbsp&nbsp&nbsp&nbsp&nbsp&nbsp&nbsp&nbsp&nbsp&nbsp&nbsp&nbsp&nbsp&nbsp&nbsp&nbsp&nbsp&nbsp&nbsp&nbsp&nbsp&nbsp&nbsp&nbsp&nbsp&nbsp&nbsp&nbsp&nbsp&nbsp&nbsp&nbsp&nbsp&nbsp&nbsp&nbsp&nbsp&nbsp&nbsp&nbsp&nbsp&nbsp&nbsp&nbsp&nbsp&nbsp&nbsp&nbsp&nbsp&nbsp&nbsp&nbsp&nbsp&nbsp&nbsp&nbsp&nbsp&nbsp&nbsp&nbsp&nbsp&nbsp&nbsp&nbsp\" \n",
    "                                    + imageDict[self.cardinplay.cardface[4]] \n",
    "                                    + \"</h1>\"\n",
    "                                        )))\n",
    "        self.count += 1\n",
    "\n",
    "\n",
    "\n",
    "\n"
   ]
  },
  {
   "cell_type": "markdown",
   "metadata": {},
   "source": [
    "<H3>The primary wrapper function is declared.</H3>\n",
    "<b><i>This displays various dialogues and calls class methods as appropriate according to the rules and progression of the game.</i></b><br>\n",
    "Counters are declared with zero value. These are incremented each time one side wins.<br>\n",
    "A while loop is used to keep asking for input if an inappropriate character is entered.<br>\n",
    "I've called for a 55 card instance of DobbleDeck as that's how many cards are in the physical game.\n"
   ]
  },
  {
   "cell_type": "code",
   "execution_count": 11,
   "metadata": {},
   "outputs": [],
   "source": [
    "def play_dobble_game():\n",
    "    game = DobbleDeck(55)\n",
    "    a=0\n",
    "    b=0\n",
    "    win = \"x\"\n",
    "    \n",
    "    \"\"\"The number of cards to be played has to be less than the number in the deck as one card has to remain\n",
    "    in the deck for the played card to be compared with\"\"\"\n",
    "    \n",
    "    n = int(input(\"How many cards (<55)? \"))\n",
    "    print(\"If you want to record a draw type 'd' or 'D'.\")\n",
    "    while game.count <= n:\n",
    "            game.play_card()\n",
    "            while win != \"a\" and win != \"b\" and win != \"d\":\n",
    "                win = str(input(\"Who wins (A or B)? \")).lower()\n",
    "                if win == \"a\":\n",
    "                    a += 1\n",
    "                elif win == \"b\":\n",
    "                    b += 1\n",
    "                elif win == \"d\":\n",
    "                    a += 1\n",
    "                    b += 1\n",
    "                else:\n",
    "                    print(\"\\nInvalid Input\\nYou must enter:\\n'A' (or 'a') if A won \\n'B' (or 'b') if B won\\n'D' (or 'd') if it's a draw\")\n",
    "            win=\"x\"\n",
    "    print(\"Score\\nA: \", a, \"\\nB: \", b)\n",
    "                \n",
    "    "
   ]
  },
  {
   "cell_type": "code",
   "execution_count": 12,
   "metadata": {},
   "outputs": [
    {
     "name": "stdout",
     "output_type": "stream",
     "text": [
      "How many cards (<55)? \n"
     ]
    },
    {
     "ename": "ValueError",
     "evalue": "invalid literal for int() with base 10: ''",
     "output_type": "error",
     "traceback": [
      "\u001b[1;31m---------------------------------------------------------------------------\u001b[0m",
      "\u001b[1;31mValueError\u001b[0m                                Traceback (most recent call last)",
      "\u001b[1;32m<ipython-input-12-7cf154679b38>\u001b[0m in \u001b[0;36m<module>\u001b[1;34m\u001b[0m\n\u001b[1;32m----> 1\u001b[1;33m \u001b[0mplay_dobble_game\u001b[0m\u001b[1;33m(\u001b[0m\u001b[1;33m)\u001b[0m\u001b[1;33m\u001b[0m\u001b[1;33m\u001b[0m\u001b[0m\n\u001b[0m",
      "\u001b[1;32m<ipython-input-11-cfd5c0b3691c>\u001b[0m in \u001b[0;36mplay_dobble_game\u001b[1;34m()\u001b[0m\n\u001b[0;32m      8\u001b[0m     in the deck for the played card to be compared with\"\"\"\n\u001b[0;32m      9\u001b[0m \u001b[1;33m\u001b[0m\u001b[0m\n\u001b[1;32m---> 10\u001b[1;33m     \u001b[0mn\u001b[0m \u001b[1;33m=\u001b[0m \u001b[0mint\u001b[0m\u001b[1;33m(\u001b[0m\u001b[0minput\u001b[0m\u001b[1;33m(\u001b[0m\u001b[1;34m\"How many cards (<55)? \"\u001b[0m\u001b[1;33m)\u001b[0m\u001b[1;33m)\u001b[0m\u001b[1;33m\u001b[0m\u001b[1;33m\u001b[0m\u001b[0m\n\u001b[0m\u001b[0;32m     11\u001b[0m     \u001b[0mprint\u001b[0m\u001b[1;33m(\u001b[0m\u001b[1;34m\"If you want to record a draw type 'd' or 'D'.\"\u001b[0m\u001b[1;33m)\u001b[0m\u001b[1;33m\u001b[0m\u001b[1;33m\u001b[0m\u001b[0m\n\u001b[0;32m     12\u001b[0m     \u001b[1;32mwhile\u001b[0m \u001b[0mgame\u001b[0m\u001b[1;33m.\u001b[0m\u001b[0mcount\u001b[0m \u001b[1;33m<=\u001b[0m \u001b[0mn\u001b[0m\u001b[1;33m:\u001b[0m\u001b[1;33m\u001b[0m\u001b[1;33m\u001b[0m\u001b[0m\n",
      "\u001b[1;31mValueError\u001b[0m: invalid literal for int() with base 10: ''"
     ]
    }
   ],
   "source": [
    "play_dobble_game()"
   ]
  },
  {
   "cell_type": "code",
   "execution_count": null,
   "metadata": {},
   "outputs": [],
   "source": []
  },
  {
   "cell_type": "code",
   "execution_count": null,
   "metadata": {},
   "outputs": [],
   "source": []
  },
  {
   "cell_type": "code",
   "execution_count": null,
   "metadata": {},
   "outputs": [],
   "source": []
  },
  {
   "cell_type": "code",
   "execution_count": null,
   "metadata": {},
   "outputs": [],
   "source": []
  },
  {
   "cell_type": "code",
   "execution_count": null,
   "metadata": {},
   "outputs": [],
   "source": []
  },
  {
   "cell_type": "code",
   "execution_count": null,
   "metadata": {},
   "outputs": [],
   "source": [
    " "
   ]
  }
 ],
 "metadata": {
  "kernelspec": {
   "display_name": "Python 3",
   "language": "python",
   "name": "python3"
  },
  "language_info": {
   "codemirror_mode": {
    "name": "ipython",
    "version": 3
   },
   "file_extension": ".py",
   "mimetype": "text/x-python",
   "name": "python",
   "nbconvert_exporter": "python",
   "pygments_lexer": "ipython3",
   "version": "3.7.9"
  }
 },
 "nbformat": 4,
 "nbformat_minor": 2
}
