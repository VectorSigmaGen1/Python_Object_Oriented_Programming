{
 "cells": [
  {
   "cell_type": "markdown",
   "metadata": {},
   "source": [
    "<H1>Installs the \"emoji\" libraray</H1>"
   ]
  },
  {
   "cell_type": "code",
   "execution_count": 1,
   "metadata": {},
   "outputs": [
    {
     "name": "stdout",
     "output_type": "stream",
     "text": [
      "Requirement already up-to-date: emoji in c:\\users\\j\\anaconda3\\lib\\site-packages (0.5.4)\n",
      "Note: you may need to restart the kernel to use updated packages.\n"
     ]
    }
   ],
   "source": [
    "pip install emoji --upgrade"
   ]
  },
  {
   "cell_type": "markdown",
   "metadata": {},
   "source": [
    "<H1>Imports the \"emoji\" module</H1>"
   ]
  },
  {
   "cell_type": "code",
   "execution_count": 2,
   "metadata": {},
   "outputs": [],
   "source": [
    "import emoji"
   ]
  },
  {
   "cell_type": "markdown",
   "metadata": {},
   "source": [
    "<H1>Imports the \"random.choice()\" function from the \"random\" module</H1>"
   ]
  },
  {
   "cell_type": "code",
   "execution_count": 3,
   "metadata": {},
   "outputs": [],
   "source": [
    "from random import choice"
   ]
  },
  {
   "cell_type": "markdown",
   "metadata": {},
   "source": [
    "<H1>Imports the \"display()\" and \"Markdown()\" functions from the \"IPython.display\" module</H1>"
   ]
  },
  {
   "cell_type": "code",
   "execution_count": 4,
   "metadata": {},
   "outputs": [],
   "source": [
    "from IPython.display import display, Markdown"
   ]
  },
  {
   "cell_type": "markdown",
   "metadata": {},
   "source": [
    "<H1>Defining the class called \"Column\" which calls for an input</H1>\n",
    "<H3>The input is assigned to the parameter \"name\"</H3>   \n",
    "<H3>The parameter \"faces\" is declared as a list of three emojis.</H3>These represent the three graphical images on the roller in the column   \n",
    "<H3>The parameter \"face\" is declared initially as the image at Pos 0 in \"Faces\"</H3>This represents the image on the roller that is showing in the column.    \n",
    "<H3>The method \"change_face\" is defined.</H3>This changes the value of \"face\" to a random selection from \"faces\""
   ]
  },
  {
   "cell_type": "code",
   "execution_count": 5,
   "metadata": {},
   "outputs": [],
   "source": [
    "class Column():\n",
    "    def __init__(self, name):\n",
    "        self.name = name\n",
    "        self.faces = [':red_apple:', ':pear:',':tangerine:']\n",
    "        self.face = self.faces[0]       \n",
    "    def change_face(self):\n",
    "        self.face = choice(self.faces)"
   ]
  },
  {
   "cell_type": "markdown",
   "metadata": {},
   "source": [
    "<H1>Defining the class called \"Purse\" which calls for an input</H1>\n",
    "<H3>The input is assigned to the parameter \"name\"</H3>    \n",
    "<H3>The parameter \"bal\" is declared with an integer value of 10</H3>\n",
    "This gives the starting balance of 10 credits for the purse as specified\n",
    "   \n",
    "<H3>The method \"get_bal\" is defined.</H3>This prints the value of \"bal\" to the screen\n",
    "<H3>The method \"debit\" is defined and requires an input</H3>This adds the input to the value of \"bal\"\n",
    "<H3>The method \"credit\" is defined and requires an input</H3>This subtracts the input from the value of \"bal\""
   ]
  },
  {
   "cell_type": "code",
   "execution_count": 6,
   "metadata": {},
   "outputs": [],
   "source": [
    "class Purse():\n",
    "    def __init__(self, name):\n",
    "        self.name = name\n",
    "        self.bal = 10\n",
    "    def get_bal(self):\n",
    "        return self.bal\n",
    "    def debit(self, x):\n",
    "        self.bal += x\n",
    "    def credit(self, x):\n",
    "        self.bal -= x"
   ]
  },
  {
   "cell_type": "markdown",
   "metadata": {},
   "source": [
    "<H1>Defining the class called \"Slot\" which calls for two arguments</H1>\n",
    "\n",
    "<H3>The first input is passed to the parameter \"name\".</H3>\n",
    "<H3>The second input is passed to the parameter \"colnum\".</H3>\n",
    "This represents the number of columns in the slot machine.\n",
    "  \n",
    "    \n",
    "<H3>The parameter \"col_list\" is declared as an empty list.</H3>\n",
    "This will accept the column objects that are created.<br>\n",
    "A \"for\" list calls the constructor for the \"Column\" class to create \"n\" column objects and to populate \"col_list\" with these.<br>\n",
    "I decided to make the contructor able to have any number of columns and I reference them by list position which avoids having to hard-code instance names into the functions.\n",
    "\n",
    "<H3>The parameter \"bet\" is declared as 0.</H3>\n",
    "\n",
    "<H3>The parameter \"purse\" calls the contructor for the \"Purse\" class to create an instance which is assigned to \"purse\".</H3>\n",
    "\n",
    "\n",
    "    \n",
    "<H3>The method \"pull_handle\" is defined.</H3>\n",
    "This calls the \"change_face\" funtion for each of the \"Column\" objects in \"col_list\".\n",
    "\n",
    "<H3>The method \"show_slot\" is defined.</H3>\n",
    "<b><i>This prints the value for the \"face\" variable in each of the \"Column\" objects.</i></b><br>\n",
    "An empty list \"results\" is declared.<br>\n",
    "A For list is used to append each of the column \"face\" values to \"results.<br>\n",
    "The entries in \"results\" are joined into a string with Markdown formatting.<br> \n",
    "The quotes within the string are removed using the replace function.<br>\n",
    "The string is emojized and displayed as markdown.<br>\n",
    "(The purpose of the Markdown code was to display the Fruits larger onscreen)<br>\n",
    "\n",
    "<H3>The method \"take_bet\" is defined.</H3>\n",
    "This passes the supplied argument to the \"bet\" parameter.\n",
    "\n",
    "<H3>The method \"score_slot\" is defined.</H3>\n",
    "<b><i>This prints the results and score obtained.</i></b><br>\n",
    "The \"show_slot\" function is called.<br>\n",
    "An if, elif, else statement is used to display the appropriate message and calculate the appropriate score.<br>\n",
    "In the case of a win, the score (less the bet) is added to the purse balance using the \"debit\" method from the Purse class.<br>\n",
    "In the case of a loss, the bet is subtracted from the purse balance using the \"credit\" method from the Purse class.<br>\n",
    "Finally, the \"bet\" variable is reset to zero.  \n",
    "\n",
    "\n",
    "        \n",
    "<H3>The method \"swap_out_rollers\" is defined.</H3>\n",
    "<b><i>This represents the roller of graphical images in each column being swapped with another roller.</i></b><br>\n",
    "It takes three inputs which are assigned to the 3 positions in the list \"faces\" for each column object in \"col_list\".\n",
    "       "
   ]
  },
  {
   "cell_type": "code",
   "execution_count": 7,
   "metadata": {},
   "outputs": [],
   "source": [
    "class Slot():\n",
    "    def __init__ (self, name, n):\n",
    "        self.name = name\n",
    "        self.colnum = n\n",
    "        self.col_list=[]\n",
    "        for i in range(1,n+1):\n",
    "            self.col_list.append(Column(self.name + \" - Column 0\"+str(i))    )\n",
    "        self.bet=0\n",
    "        self.win=0\n",
    "        self.purse = Purse(self.name )\n",
    "                    \n",
    "    def pull_handle(self):\n",
    "        for i in range(self.colnum):\n",
    "            self.col_list[i].change_face() \n",
    "          \n",
    "    def show_slot(self):\n",
    "        self.results=[]\n",
    "        for i in range(self.colnum):\n",
    "            self.results.append(self.col_list[i].face)\n",
    "        display(\n",
    "            Markdown(emoji.emojize((\"<h1>\" + ''.join(['%r' % r for r in self.results])+ \"</h1>\").replace(\"'\", \" \")))) \n",
    "        \n",
    "    def take_bet(self, b):\n",
    "            self.bet = b       \n",
    "    \n",
    "    def score_slot(self):\n",
    "        self.show_slot()\n",
    "        if self.col_list[0].face == self.col_list[1].face == self.col_list[2].face:\n",
    "            print(\"You got a Full House!!\")\n",
    "            print(\"You score \" + str(2*(self.bet)) + \" - \", end=\"\")\n",
    "            self.purse.debit((self.bet))\n",
    "            \n",
    "        elif self.col_list[0].face == self.col_list[1].face or self.col_list[0].face == self.col_list[2].face or self.col_list[1].face == self.col_list[2].face:\n",
    "            print(\"You got a Half House!!\")\n",
    "            print(\"You score \" + str(3/2*(self.bet)) + \" - \", end=\"\")\n",
    "            self.purse.debit((self.bet)/2)\n",
    "                \n",
    "        else:\n",
    "            print(\"You got an Empty House\")\n",
    "            print(\"You score 0\" + \" - \", end=\"\")\n",
    "            self.purse.credit(self.bet)\n",
    "        self.bet=0\n",
    "            \n",
    "    def swap_out_rollers(x, y, z):\n",
    "        for i in range(n):\n",
    "            self.col_list[i].faces[0] = x\n",
    "            self.col_list[i].faces[1] = y\n",
    "            self.col_list[i].faces[2] = z\n"
   ]
  },
  {
   "cell_type": "markdown",
   "metadata": {},
   "source": [
    "<H3>The \"Slot\" class constructor is called to create a class instance called \"SlotA\".</H3>\n",
    "2 arguments are supplied to be passed to the parameters \"name\" and \"colnum\"."
   ]
  },
  {
   "cell_type": "code",
   "execution_count": 8,
   "metadata": {},
   "outputs": [],
   "source": [
    "SlotA = Slot(\"Winner Winner Chicken Dinner\", 3)"
   ]
  },
  {
   "cell_type": "code",
   "execution_count": 9,
   "metadata": {},
   "outputs": [
    {
     "data": {
      "text/plain": [
       "{'name': 'Winner Winner Chicken Dinner - Column 02',\n",
       " 'faces': [':red_apple:', ':pear:', ':tangerine:'],\n",
       " 'face': ':red_apple:'}"
      ]
     },
     "execution_count": 9,
     "metadata": {},
     "output_type": "execute_result"
    }
   ],
   "source": [
    "SlotA.col_list[1].__dict__"
   ]
  },
  {
   "cell_type": "markdown",
   "metadata": {},
   "source": [
    "<H3>The primary wrapper function is declared.</H3>\n",
    "<b><i>This displays various dialogues and calls class methods as appropriate according to the rules and progression of the game.</i></b><br>\n",
    "I'll use inline commenting to describe what's occurring.\n"
   ]
  },
  {
   "cell_type": "code",
   "execution_count": 10,
   "metadata": {},
   "outputs": [],
   "source": [
    "def run_slot_machine():  \n",
    "    print(\"==========  SLOT MACHINE  =========\\nMinimum bet is 2. Type 'N' to exit.\") # prints a header, then on a new line prints the minimum bet and the exit command.\n",
    "    bet=int(0) # Declares the variable \"bet\" as an integer with a value 0.\n",
    "    while bet != 'n' and SlotA.purse.bal >= 2: # A while loop that is broken if \"bet\" = 'n' or if the purse balance of SlotA drops below 2.\n",
    "        print(\"you have \", SlotA.purse.get_bal(), \"\\n\\n\") # Prints text and the current purse balance of SlaotA to the screen. Prints two newlines.\n",
    "        bet = input(\"How much do you bet: \").lower() # Takes an input from the user, converts any uppercase letters to lowercase and assigns it to \"bet\"\n",
    "        while type(bet) != int: # A while loop, to divert back here after line 18 or line 20. Line 16 will break the loop and the outer loop will loop back to line 4.\n",
    "            if bet == 'n': # The exit command (the use of '.lower()' in line 6 allows for upper or lowercase 'n' to end the program.)\n",
    "                break # Breaks the while loop and the value 'n' will then automatically break the outer loop as it is a condition, diverting to line 21. \n",
    "            else:\n",
    "                try: # Exception Handling.\n",
    "                    bet = int(bet) # Attempts to convert the value of 'bet' to an integer.\n",
    "                    if bet <= SlotA.purse.bal and bet >= 2: # Checks that the amount bet is less than the amount in the purse and is greater than the minimum bet, 2.\n",
    "                        SlotA.take_bet(bet) # Calls the \"take_bet\" method of SlotA on the bet.\n",
    "                        SlotA.pull_handle() # Calls the \"pull_handle\" method of SlotA.\n",
    "                        SlotA.score_slot() # Calls the \"score_slot\" method of SlotA. After this, because \"bet\" is now an integer, it will break the inner loop and divert back to line 4.\n",
    "                    else: # If the previous input is greater than the purse balance or less than 2, \n",
    "                        bet = input(\"How much do you bet: \").lower() # Input is called again and the inner loop diverts back to line 7.\n",
    "                except ValueError: # If line 12 fails, due to the user inputting a string or a float, this catches the error and allows progress to the next line.\n",
    "                    bet = input(\"How much do you bet: \").lower() # This asks for input again and the loop diverts back to line 7.          \n",
    "    print(\"Thank you for playing\") # Once the outer loop is broken by the user entering 'n' or the purse balance dropping below 2, it diverts to here printing the exit message.\n",
    "    print(\"You are leaving with \", end=\"\") # prints \"You are leaving with \" and suppresses newline.\n",
    "    print(SlotA.purse.bal) # prints the final purse balance for SlotA.\n",
    "    SlotA.purse.bal = 10 # This resets the purse to 10 credits for the next game."
   ]
  },
  {
   "cell_type": "code",
   "execution_count": 11,
   "metadata": {},
   "outputs": [
    {
     "name": "stdout",
     "output_type": "stream",
     "text": [
      "==========  SLOT MACHINE  =========\n",
      "Minimum bet is 2. Type 'N' to exit.\n",
      "you have  10 \n",
      "\n",
      "\n",
      "How much do you bet: 6\n"
     ]
    },
    {
     "data": {
      "text/markdown": [
       "<h1> 🍎  🍊  🍊 </h1>"
      ],
      "text/plain": [
       "<IPython.core.display.Markdown object>"
      ]
     },
     "metadata": {},
     "output_type": "display_data"
    },
    {
     "name": "stdout",
     "output_type": "stream",
     "text": [
      "You got a Half House!!\n",
      "You score 9.0 - you have  13.0 \n",
      "\n",
      "\n",
      "How much do you bet: 8\n"
     ]
    },
    {
     "data": {
      "text/markdown": [
       "<h1> 🍐  🍐  🍐 </h1>"
      ],
      "text/plain": [
       "<IPython.core.display.Markdown object>"
      ]
     },
     "metadata": {},
     "output_type": "display_data"
    },
    {
     "name": "stdout",
     "output_type": "stream",
     "text": [
      "You got a Full House!!\n",
      "You score 16 - you have  21.0 \n",
      "\n",
      "\n",
      "How much do you bet: 20\n"
     ]
    },
    {
     "data": {
      "text/markdown": [
       "<h1> 🍊  🍐  🍐 </h1>"
      ],
      "text/plain": [
       "<IPython.core.display.Markdown object>"
      ]
     },
     "metadata": {},
     "output_type": "display_data"
    },
    {
     "name": "stdout",
     "output_type": "stream",
     "text": [
      "You got a Half House!!\n",
      "You score 30.0 - you have  31.0 \n",
      "\n",
      "\n",
      "How much do you bet: n\n",
      "Thank you for playing\n",
      "You are leaving with 31.0\n"
     ]
    }
   ],
   "source": [
    "run_slot_machine() # Calls the \"run_slot_machine\" function to start the program"
   ]
  }
 ],
 "metadata": {
  "kernelspec": {
   "display_name": "Python 3",
   "language": "python",
   "name": "python3"
  },
  "language_info": {
   "codemirror_mode": {
    "name": "ipython",
    "version": 3
   },
   "file_extension": ".py",
   "mimetype": "text/x-python",
   "name": "python",
   "nbconvert_exporter": "python",
   "pygments_lexer": "ipython3",
   "version": "3.7.4"
  }
 },
 "nbformat": 4,
 "nbformat_minor": 2
}
